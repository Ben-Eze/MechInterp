{
 "cells": [
  {
   "cell_type": "code",
   "execution_count": null,
   "id": "f7e8164d",
   "metadata": {},
   "outputs": [
    {
     "name": "stdout",
     "output_type": "stream",
     "text": [
      "Hidden activations: tensor([[ 0.5672, -0.6464, -1.0984,  0.2729, -0.6984, -0.9447, -0.5653,  0.7969]],\n",
      "       grad_fn=<AddmmBackward0>)\n"
     ]
    }
   ],
   "source": [
    "import torch\n",
    "import torch.nn as nn\n",
    "from transformer_lens.hook_points import HookedRootModule, HookPoint\n",
    "\n",
    "class SimpleFFN(HookedRootModule):\n",
    "    def __init__(self, d_in=4, d_hidden=8, d_out=2):\n",
    "        super().__init__()\n",
    "        self.hook_in = HookPoint()     # before first layer\n",
    "        self.lin1 = nn.Linear(d_in, d_hidden)\n",
    "        self.hook_hidden = HookPoint() # after first layer\n",
    "        self.lin2 = nn.Linear(d_hidden, d_out)\n",
    "        self.hook_out = HookPoint()    # final output\n",
    "\n",
    "        self.setup()  # required\n",
    "\n",
    "    def forward(self, x):\n",
    "        x = self.hook_in(x)\n",
    "        x = self.lin1(x)\n",
    "        x = torch.relu(self.hook_hidden(x))\n",
    "        x = self.lin2(x)\n",
    "        return self.hook_out(x)\n",
    "\n",
    "# Example usage\n",
    "model = SimpleFFN()\n",
    "x = torch.randn(1, 4)\n",
    "\n",
    "def print_hidden(tensor, hook):\n",
    "    print(\"Hidden activations:\", tensor)\n",
    "\n",
    "logits = model.run_with_hooks(x, fwd_hooks=[(\"hook_hidden\", print_hidden)])\n"
   ]
  }
 ],
 "metadata": {
  "kernelspec": {
   "display_name": "Python 3",
   "language": "python",
   "name": "python3"
  },
  "language_info": {
   "codemirror_mode": {
    "name": "ipython",
    "version": 3
   },
   "file_extension": ".py",
   "mimetype": "text/x-python",
   "name": "python",
   "nbconvert_exporter": "python",
   "pygments_lexer": "ipython3",
   "version": "3.13.3"
  }
 },
 "nbformat": 4,
 "nbformat_minor": 5
}
